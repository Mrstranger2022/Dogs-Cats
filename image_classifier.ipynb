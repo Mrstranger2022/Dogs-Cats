{
 "cells": [
  {
   "metadata": {},
   "cell_type": "markdown",
   "source": "Importing the required libraries",
   "id": "8a5613d35c5b4308"
  },
  {
   "metadata": {},
   "cell_type": "markdown",
   "source": [
    "| Module               | Purpose                   | Common Use                  |\n",
    "| -------------------- | ------------------------- | --------------------------- |\n",
    "| `os`                 | File/folder handling      | `os.path.exists`, `os.walk` |\n",
    "| `tensorflow`         | Deep learning framework   | Model building and training |\n",
    "| `ImageDataGenerator` | Load & augment image data | `flow_from_directory(...)`  |\n",
    "| `matplotlib.pyplot`  | Plot charts               | `plt.plot`, `plt.show()`    |\n"
   ],
   "id": "3144b415a5122dfc"
  },
  {
   "metadata": {
    "ExecuteTime": {
     "end_time": "2025-06-27T12:02:35.476133Z",
     "start_time": "2025-06-27T12:02:35.470749Z"
    }
   },
   "cell_type": "code",
   "source": [
    "import os\n",
    "import tensorflow as tf\n",
    "from tensorflow.keras.preprocessing.image import ImageDataGenerator\n",
    "import matplotlib.pyplot as plt"
   ],
   "id": "95fa82ccea8133c5",
   "outputs": [],
   "execution_count": 14
  },
  {
   "metadata": {},
   "cell_type": "markdown",
   "source": "Setting path",
   "id": "f939210cf035495d"
  },
  {
   "metadata": {
    "ExecuteTime": {
     "end_time": "2025-06-27T12:17:06.836707Z",
     "start_time": "2025-06-27T12:17:06.832700Z"
    }
   },
   "cell_type": "code",
   "source": [
    "# train_dir = 'D:\\PORTFOLIO\\PROJECTS\\ImageClassifierusingKeras\\datasets'\n",
    "base_dir = os.getcwd() # This gets current script's folder\n",
    "train_dir = os.path.join(base_dir, 'datasets')"
   ],
   "id": "f38864df906eff3f",
   "outputs": [],
   "execution_count": 64
  },
  {
   "metadata": {
    "ExecuteTime": {
     "end_time": "2025-06-27T12:17:06.871525Z",
     "start_time": "2025-06-27T12:17:06.863899Z"
    }
   },
   "cell_type": "code",
   "source": "print(\"Train dir exists?\", os.path.exists(train_dir))",
   "id": "88821d14373ca33a",
   "outputs": [
    {
     "name": "stdout",
     "output_type": "stream",
     "text": [
      "Train dir exists? True\n"
     ]
    }
   ],
   "execution_count": 65
  },
  {
   "metadata": {
    "ExecuteTime": {
     "end_time": "2025-06-27T12:17:15.733866Z",
     "start_time": "2025-06-27T12:17:15.728080Z"
    }
   },
   "cell_type": "code",
   "source": [
    "for root, dirs, files in os.walk(train_dir):\n",
    "    print(f\"📂 {root} — 🖼️ {len(files)} files\")"
   ],
   "id": "aa1e99df2cf447fe",
   "outputs": [
    {
     "name": "stdout",
     "output_type": "stream",
     "text": [
      "📂 D:\\PORTFOLIO\\PROJECTS\\ImageClassifierusingKeras\\datasets — 🖼️ 0 files\n",
      "📂 D:\\PORTFOLIO\\PROJECTS\\ImageClassifierusingKeras\\datasets\\cats — 🖼️ 5 files\n",
      "📂 D:\\PORTFOLIO\\PROJECTS\\ImageClassifierusingKeras\\datasets\\dogs — 🖼️ 5 files\n"
     ]
    }
   ],
   "execution_count": 70
  },
  {
   "metadata": {},
   "cell_type": "markdown",
   "source": "Preprocess",
   "id": "3d62fcb94409c66f"
  },
  {
   "metadata": {
    "ExecuteTime": {
     "end_time": "2025-06-27T12:17:15.804439Z",
     "start_time": "2025-06-27T12:17:15.795194Z"
    }
   },
   "cell_type": "code",
   "source": "datagen=ImageDataGenerator(rescale=1./255,validation_split=0.2)\n",
   "id": "dbce7ee68d57c3a2",
   "outputs": [],
   "execution_count": 71
  },
  {
   "metadata": {
    "ExecuteTime": {
     "end_time": "2025-06-27T12:17:15.855836Z",
     "start_time": "2025-06-27T12:17:15.839077Z"
    }
   },
   "cell_type": "code",
   "source": [
    "train_data=datagen.flow_from_directory(\n",
    "    train_dir,\n",
    "    target_size=(150,150),\n",
    "    batch_size=32,\n",
    "    class_mode='binary',\n",
    "    subset='training'\n",
    "\n",
    ")"
   ],
   "id": "11e2214a0813d651",
   "outputs": [
    {
     "name": "stdout",
     "output_type": "stream",
     "text": [
      "Found 8 images belonging to 2 classes.\n"
     ]
    }
   ],
   "execution_count": 72
  },
  {
   "metadata": {
    "ExecuteTime": {
     "end_time": "2025-06-27T12:17:17.563180Z",
     "start_time": "2025-06-27T12:17:17.549210Z"
    }
   },
   "cell_type": "code",
   "source": [
    "val_data=datagen.flow_from_directory(\n",
    "    train_dir,\n",
    "    target_size=(150,150),\n",
    "    batch_size=32,\n",
    "    class_mode='binary',\n",
    "    subset='validation'\n",
    "\n",
    ")"
   ],
   "id": "97be00dff87b8267",
   "outputs": [
    {
     "name": "stdout",
     "output_type": "stream",
     "text": [
      "Found 2 images belonging to 2 classes.\n"
     ]
    }
   ],
   "execution_count": 73
  },
  {
   "metadata": {},
   "cell_type": "markdown",
   "source": "Model",
   "id": "dd11d30c0b1f4210"
  },
  {
   "metadata": {
    "ExecuteTime": {
     "end_time": "2025-06-27T12:17:27.204653Z",
     "start_time": "2025-06-27T12:17:27.135697Z"
    }
   },
   "cell_type": "code",
   "source": [
    "model=tf.keras.models.Sequential([\n",
    "    tf.keras.layers.Conv2D(32,(3,3),activation='relu',input_shape=(150,150,3)),\n",
    "    tf.keras.layers.MaxPooling2D(2,2),\n",
    "\n",
    "    tf.keras.layers.Conv2D(64,(3,3),activation='relu'),\n",
    "    tf.keras.layers.MaxPooling2D(2,2),\n",
    "\n",
    "    tf.keras.layers.Flatten(),\n",
    "    tf.keras.layers.Dense(128,activation='relu'),\n",
    "    tf.keras.layers.Dense(1,activation='sigmoid')\n",
    "])"
   ],
   "id": "1071994c20373d0",
   "outputs": [],
   "execution_count": 75
  },
  {
   "metadata": {
    "ExecuteTime": {
     "end_time": "2025-06-27T12:17:33.796636Z",
     "start_time": "2025-06-27T12:17:33.787288Z"
    }
   },
   "cell_type": "code",
   "source": [
    "model.compile(optimizer='adam',\n",
    "              loss='binary_crossentropy',\n",
    "              metrics=['accuracy'])"
   ],
   "id": "68a0fc4e64d2b8a1",
   "outputs": [],
   "execution_count": 76
  },
  {
   "metadata": {},
   "cell_type": "markdown",
   "source": "Train",
   "id": "14b29bc83f96738a"
  },
  {
   "metadata": {
    "ExecuteTime": {
     "end_time": "2025-06-27T12:17:39.494588Z",
     "start_time": "2025-06-27T12:17:36.942369Z"
    }
   },
   "cell_type": "code",
   "source": "history=model.fit(train_data,validation_data=val_data,epochs=5)",
   "id": "1349c6305c245697",
   "outputs": [
    {
     "name": "stdout",
     "output_type": "stream",
     "text": [
      "Epoch 1/5\n",
      "\u001B[1m1/1\u001B[0m \u001B[32m━━━━━━━━━━━━━━━━━━━━\u001B[0m\u001B[37m\u001B[0m \u001B[1m2s\u001B[0m 2s/step - accuracy: 0.3750 - loss: 0.6985 - val_accuracy: 0.5000 - val_loss: 3.2511\n",
      "Epoch 2/5\n",
      "\u001B[1m1/1\u001B[0m \u001B[32m━━━━━━━━━━━━━━━━━━━━\u001B[0m\u001B[37m\u001B[0m \u001B[1m0s\u001B[0m 237ms/step - accuracy: 0.5000 - loss: 1.6945 - val_accuracy: 0.5000 - val_loss: 5.6672\n",
      "Epoch 3/5\n",
      "\u001B[1m1/1\u001B[0m \u001B[32m━━━━━━━━━━━━━━━━━━━━\u001B[0m\u001B[37m\u001B[0m \u001B[1m0s\u001B[0m 220ms/step - accuracy: 0.5000 - loss: 3.8726 - val_accuracy: 0.5000 - val_loss: 3.5874\n",
      "Epoch 4/5\n",
      "\u001B[1m1/1\u001B[0m \u001B[32m━━━━━━━━━━━━━━━━━━━━\u001B[0m\u001B[37m\u001B[0m \u001B[1m0s\u001B[0m 218ms/step - accuracy: 0.5000 - loss: 1.7014 - val_accuracy: 0.0000e+00 - val_loss: 1.0273\n",
      "Epoch 5/5\n",
      "\u001B[1m1/1\u001B[0m \u001B[32m━━━━━━━━━━━━━━━━━━━━\u001B[0m\u001B[37m\u001B[0m \u001B[1m0s\u001B[0m 220ms/step - accuracy: 1.0000 - loss: 0.2140 - val_accuracy: 0.5000 - val_loss: 1.6626\n"
     ]
    }
   ],
   "execution_count": 77
  },
  {
   "metadata": {},
   "cell_type": "markdown",
   "source": "Plot",
   "id": "f31d0761d2cbc79e"
  },
  {
   "metadata": {
    "ExecuteTime": {
     "end_time": "2025-06-27T12:28:02.891111Z",
     "start_time": "2025-06-27T12:28:02.661027Z"
    }
   },
   "cell_type": "code",
   "source": [
    "plt.plot(history.history['accuracy'],label='train')\n",
    "plt.plot(history.history['val_accuracy'],label='val')\n",
    "plt.legend()\n",
    "plt.title(\"Training vs Validation Accuracy\")\n",
    "plt.show()"
   ],
   "id": "35f29be1509f6524",
   "outputs": [
    {
     "data": {
      "text/plain": [
       "<Figure size 640x480 with 1 Axes>"
      ],
      "image/png": "[encoded data removed]"
     },
     "metadata": {},
     "output_type": "display_data"
    }
   ],
   "execution_count": 80
  }
 ],
 "metadata": {
  "kernelspec": {
   "display_name": "Python 3",
   "language": "python",
   "name": "python3"
  },
  "language_info": {
   "codemirror_mode": {
    "name": "ipython",
    "version": 2
   },
   "file_extension": ".py",
   "mimetype": "text/x-python",
   "name": "python",
   "nbconvert_exporter": "python",
   "pygments_lexer": "ipython2",
   "version": "2.7.6"
  }
 },
 "nbformat": 4,
 "nbformat_minor": 5
}
